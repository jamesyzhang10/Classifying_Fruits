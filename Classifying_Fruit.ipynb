{
  "nbformat": 4,
  "nbformat_minor": 0,
  "metadata": {
    "colab": {
      "name": "Replicate 2 - Classifying Fruit.ipynb",
      "provenance": [],
      "authorship_tag": "ABX9TyPcMoCJY/kqwnXhWJnT6SbU",
      "include_colab_link": true
    },
    "kernelspec": {
      "name": "python3",
      "display_name": "Python 3"
    }
  },
  "cells": [
    {
      "cell_type": "markdown",
      "metadata": {
        "id": "view-in-github",
        "colab_type": "text"
      },
      "source": [
        "<a href=\"https://colab.research.google.com/github/jamesyzhang10/Classifying_Fruits/blob/main/Classifying_Fruit.ipynb\" target=\"_parent\"><img src=\"https://colab.research.google.com/assets/colab-badge.svg\" alt=\"Open In Colab\"/></a>"
      ]
    },
    {
      "cell_type": "code",
      "metadata": {
        "id": "fWSZtaxpmiEw",
        "colab": {
          "base_uri": "https://localhost:8080/"
        },
        "outputId": "25a72009-36e1-478a-d821-59e660708564"
      },
      "source": [
        "import tensorflow as tf\n",
        "from tensorflow import keras\n",
        "import matplotlib.pyplot as plt\n",
        "import matplotlib.image as mpimg\n",
        "import numpy as np\n",
        "import PIL\n",
        "from PIL import Image\n",
        "import time\n",
        "import sys\n",
        "import os\n",
        "from google.colab import drive\n",
        "drive.mount('/content/drive')"
      ],
      "execution_count": 117,
      "outputs": [
        {
          "output_type": "stream",
          "text": [
            "Drive already mounted at /content/drive; to attempt to forcibly remount, call drive.mount(\"/content/drive\", force_remount=True).\n"
          ],
          "name": "stdout"
        }
      ]
    },
    {
      "cell_type": "code",
      "metadata": {
        "colab": {
          "base_uri": "https://localhost:8080/"
        },
        "id": "xZ6hxWSYvXrQ",
        "outputId": "a5b5af3a-54e4-4147-8565-72f42718d624"
      },
      "source": [
        "x_train = []\n",
        "y_train = []\n",
        "\n",
        "x_test = []\n",
        "y_test = []\n",
        "\n",
        "def pathApple(num):\n",
        "  for dirname, _, filenames in os.walk('/content/drive/MyDrive/FruitClassification/train/apple'):\n",
        "    for filename in filenames:\n",
        "      return os.path.join(dirname, filename)\n",
        "\n",
        "def pathOrange(num):\n",
        "  for dirname, _, filenames in os.walk('/content/drive/MyDrive/FruitClassification/train/orange'):\n",
        "    for filename in filenames:\n",
        "      return os.path.join(dirname, filename)\n",
        "\n",
        "def pathBanana(num):\n",
        "  for dirname, _, filenames in os.walk('/content/drive/MyDrive/FruitClassification/train/banana'):\n",
        "    for filename in filenames:\n",
        "      return os.path.join(dirname, filename)\n",
        "\n",
        "def pathApple2(num):\n",
        "  for dirname, _, filenames in os.walk('/content/drive/MyDrive/FruitClassification/test/apple2'):\n",
        "    for filename in filenames:\n",
        "      return os.path.join(dirname, filename)\n",
        "\n",
        "def pathOrange2(num):\n",
        "  for dirname, _, filenames in os.walk('/content/drive/MyDrive/FruitClassification/test/orange2'):\n",
        "    for filename in filenames:\n",
        "      return os.path.join(dirname, filename)\n",
        "\n",
        "def pathBanana2(num):\n",
        "  for dirname, _, filenames in os.walk('/content/drive/MyDrive/FruitClassification/test/banana2'):\n",
        "    for filename in filenames:\n",
        "      return os.path.join(dirname, filename)\n",
        "\n",
        "for i in range (1, 77, 1):\n",
        "  x_train.append(np.asarray(Image.open(pathApple(i)).resize((150, 150), Image.ANTIALIAS)).copy())\n",
        "  y_train.append(np.asarray([1, 0, 0]))\n",
        "  x_train.append(np.asarray(Image.open(pathBanana(i)).resize((150, 150), Image.ANTIALIAS)).copy())\n",
        "  y_train.append(np.asarray([1, 0, 0]))\n",
        "  x_train.append(np.asarray(Image.open(pathOrange(i)).resize((150, 150), Image.ANTIALIAS)).copy())\n",
        "  y_train.append(np.asarray([1, 0, 0]))\n",
        "\n",
        "for i in range (77, 94, 1):\n",
        "  x_train.append(np.asarray(Image.open(pathApple2(i)).resize((150, 150), Image.ANTIALIAS)).copy())\n",
        "  y_train.append(np.asarray([1, 0, 0]))\n",
        "  x_train.append(np.asarray(Image.open(pathBanana2(i)).resize((150, 150), Image.ANTIALIAS)).copy())\n",
        "  y_train.append(np.asarray([1, 0, 0]))\n",
        "  x_train.append(np.asarray(Image.open(pathOrange2(i)).resize((150, 150), Image.ANTIALIAS)).copy())\n",
        "  y_train.append(np.asarray([1, 0, 0]))\n",
        "print(type(x_train))"
      ],
      "execution_count": 118,
      "outputs": [
        {
          "output_type": "stream",
          "text": [
            "<class 'list'>\n"
          ],
          "name": "stdout"
        }
      ]
    },
    {
      "cell_type": "code",
      "metadata": {
        "id": "qTeo0SIA8QlL"
      },
      "source": [
        "x_train = np.asarray(x_train, dtype = np.float32)\n",
        "y_train = np.asarray(y_train, dtype = np.float32)\n",
        "x_test = np.asarray(x_test, dtype=np.float32)\n",
        "y_test = np.asarray(y_test, dtype=np.float32)"
      ],
      "execution_count": 119,
      "outputs": []
    },
    {
      "cell_type": "code",
      "metadata": {
        "id": "-38VoBArmurP"
      },
      "source": [
        "#Create the sequential model\n",
        "model = keras.models.Sequential()\n",
        "\n",
        "model.add(keras.layers.Conv2D(32, (3, 3), activation = 'relu', input_shape = (150, 150, 3)))\n",
        "model.add(keras.layers.MaxPooling2D((2, 2)))\n",
        "model.add(keras.layers.Conv2D(64,(3,3),activation='relu'))\n",
        "model.add(keras.layers.MaxPooling2D((2,2)))\n",
        "model.add(keras.layers.Flatten())\n",
        "\n",
        "#Hidden layer\n",
        "model.add(keras.layers.Dense(128, activation = 'relu'))\n",
        "model.add(keras.layers.Dropout(0.2))\n",
        "\n",
        "#Output layer\n",
        "model.add(keras.layers.Dense(3, activation = 'softmax'))"
      ],
      "execution_count": 120,
      "outputs": []
    },
    {
      "cell_type": "code",
      "metadata": {
        "id": "yE5NFzdqs6bS",
        "colab": {
          "base_uri": "https://localhost:8080/"
        },
        "outputId": "3e099ae6-678c-4eb5-ea8a-ede89a6cf384"
      },
      "source": [
        "#Compile\n",
        "model.compile(\n",
        "    optimizer = \"adam\",\n",
        "    loss = \"categorical_crossentropy\",\n",
        "    metrics = [\"accuracy\"]\n",
        ")\n",
        "\n",
        "#Train the neural network\n",
        "model.fit(x_train, y_train, batch_size = 3, epochs=1)\n",
        "\n",
        "# Save model to file\n",
        "model.save(\"fruits\")\n",
        "reconstructed_model = tf.keras.models.load_model(\"fruits\")"
      ],
      "execution_count": 121,
      "outputs": [
        {
          "output_type": "stream",
          "text": [
            "93/93 [==============================] - 22s 236ms/step - loss: 0.9696 - accuracy: 0.9636\n",
            "INFO:tensorflow:Assets written to: fruits/assets\n"
          ],
          "name": "stdout"
        }
      ]
    }
  ]
}